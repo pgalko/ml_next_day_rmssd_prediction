{
 "cells": [
  {
   "attachments": {},
   "cell_type": "markdown",
   "metadata": {},
   "source": [
    "# Evaluating a Use of Regression Machine Learning Models for Predicting Morning RMSSD"
   ]
  },
  {
   "attachments": {},
   "cell_type": "markdown",
   "metadata": {},
   "source": [
    "RMSSD (Root Mean Square of the Successive Differences) is a commonly used measure of heart rate variability (HRV), which refers to the variation in the time interval between consecutive heartbeats. RMSSD is often used as an indicator of vagal tone, which is a measure of the activity of the parasympathetic nervous system, which regulates the body's \"rest and digest\" functions. Higher HRV is generally associated with good physical and mental health, while lower HRV can indicate stress, fatigue, or other health problems."
   ]
  },
  {
   "attachments": {},
   "cell_type": "markdown",
   "metadata": {},
   "source": [
    "This notebook implements a machine learning model for predicting the next morning's rmssd value. The data was retrieved from the \"Athlete Data Warehouse\" PostgreSQL database, which integrates athletic activity and lifestyle information from various sources, and was exported into a CSV file included with this notebook. The data is loaded into pandas dataframe then preprocessed and transformed by converting dates to numeric values, shifting up certain columns to exclude the values that will be predicted, and selecting relevant features. \n",
    "The code defines a function, return_morn_rmssd, that takes in the preprocessed data and returns a prediction of the next morning's rmssd value. The prediction is made using a combination of regression models including RandomForrestRegressor, MLPRegressor and xgboost. The code also includes various error metrics to evaluate the performance of the model, such as mean squared error, mean absolute error, and mean absolute percentage error and plot the predicted vs measured values."
   ]
  },
  {
   "attachments": {},
   "cell_type": "markdown",
   "metadata": {},
   "source": [
    "Import Libraries"
   ]
  },
  {
   "cell_type": "code",
   "execution_count": 9,
   "metadata": {},
   "outputs": [],
   "source": [
    "import pandas as pd\n",
    "pd.options.mode.chained_assignment = None  # default='warn'\n",
    "import numpy as np\n",
    "import datetime\n",
    "from scipy.stats import pearsonr\n",
    "\n",
    "from sklearn.preprocessing import MinMaxScaler\n",
    "from sklearn.preprocessing import StandardScaler\n",
    "from sklearn import ensemble\n",
    "from sklearn.neural_network import MLPRegressor\n",
    "import xgboost as xgb\n",
    "from sklearn.metrics import mean_squared_error\n",
    "from sklearn.metrics import mean_absolute_error\n",
    "from sklearn.metrics import mean_absolute_percentage_error\n",
    "\n",
    "import matplotlib.pyplot as plt"
   ]
  },
  {
   "attachments": {},
   "cell_type": "markdown",
   "metadata": {},
   "source": [
    "Define a function to return a prediction for the next morning rmssd value"
   ]
  },
  {
   "cell_type": "code",
   "execution_count": 10,
   "metadata": {},
   "outputs": [],
   "source": [
    "def return_morn_rmssd(sql_data,suffer_score_values,days_past=None):\n",
    "\n",
    "    predictions_array = []\n",
    "    rmssd_data = sql_data.copy()\n",
    "\n",
    "    #######################################\n",
    "    #### PREPARE THE DATA ####\n",
    "    #######################################\n",
    "\n",
    "    #shift column up to drop the ema values that included rmssd that we are trying to predict\n",
    "    rmssd_data['oura_sleep_rmssd_42d_ema'] = rmssd_data.oura_sleep_rmssd_42d_ema.shift(-3)\n",
    "    rmssd_data['oura_sleep_rmssd_7d_ema'] = rmssd_data.oura_sleep_rmssd_7d_ema.shift(-3)\n",
    "    #shift column up to include a value from yesterday\n",
    "    rmssd_data['wellness_total_steps'] = rmssd_data.wellness_total_steps.shift(-1)\n",
    "    rmssd_data['gc_well_evn_stress_3d_ema'] = rmssd_data.gc_well_evn_stress_3d_ema.shift(-1)\n",
    "    rmssd_data['nutr_daily_fiber_3d_ema'] = rmssd_data.nutr_daily_fiber_3d_ema.shift(-1)\n",
    "\n",
    "    #convert date to numeric\n",
    "    rmssd_data['local_date'] = pd.to_datetime(rmssd_data['local_date'])\n",
    "    rmssd_data['local_date'] = rmssd_data['local_date'].map(datetime.datetime.toordinal)\n",
    "    #sort by date\n",
    "    rmssd_data = rmssd_data.sort_values(by=['local_date'])\n",
    "    \n",
    "    # Select features to include in the train/predict datasets. Last feature is the one that we are predicting ('oura_sleep_rmssd').\n",
    "    rmssd_data = rmssd_data[['local_date',\n",
    "                        'gc_well_sleep_hr','gc_well_morning_hr',\n",
    "                        'oura_sleep_rem_yest','oura_sleep_deep_yest','oura_sleep_temperature_deviation_yest','oura_sleep_awake_yest','oura_sleep_light_yest',\n",
    "                        'oura_sleep_rmssd_42d_ema','oura_sleep_rmssd_7d_ema',\n",
    "                        'act_pmc_ctl','act_pmc_atl',\n",
    "                        'act_last_alt_ema',\n",
    "                        'wellness_total_steps','gc_well_evn_stress_3d_ema',\n",
    "                        'nutr_daily_fiber_3d_ema',\n",
    "                        'weight_gm','body_water',\n",
    "                        'act_last_alt','act_last_long','act_daily_suffer_score',\n",
    "                        'weather_avg_dew_point','weather_avg_temperature','weather_stddev_air_pressure','weather_avg_air_pressure','weather_avg_wind_direction',\n",
    "                        'oura_sleep_rmssd_3d_ema'\n",
    "                        ]]\n",
    "    # Create the array to store ATL,CTL and TSS values\n",
    "    atl_ctl_values = []\n",
    "    # Put data into 'atl_ctl_values' array\n",
    "    if days_past is not None:\n",
    "        rmssd_data = rmssd_data.iloc[:days_past] # Adjust how many lines you would like to drop (-2 two days back, predicting for the day before yesterday)\n",
    "        actual_oura_sleep_rmssd = int(rmssd_data['oura_sleep_rmssd_3d_ema'].iat[-1])\n",
    "        today_atl = rmssd_data['act_pmc_atl'].iat[-1]\n",
    "        today_ctl = rmssd_data['act_pmc_ctl'].iat[-1]\n",
    "        suffer_score_value = rmssd_data['act_daily_suffer_score'].iat[-1]\n",
    "        atl_ctl_values.append([suffer_score_value,today_atl,today_ctl])\n",
    "    else: \n",
    "        actual_oura_sleep_rmssd = None\n",
    "        # Calculate ATL from suffer score (Coggan formula -- 'CTLtoday = CTLyesterday + (TSStoday - CTLyesterday)*(alpha)')\n",
    "        for suffer_score_value in suffer_score_values:\n",
    "            yesterday_atl = rmssd_data['act_pmc_atl'].iat[-2]\n",
    "            yesterday_ctl = rmssd_data['act_pmc_ctl'].iat[-2]\n",
    "            today_atl = yesterday_atl+(suffer_score_value-yesterday_atl)*0.1428 # alpha = 1/7\n",
    "            today_ctl = yesterday_ctl+(suffer_score_value-yesterday_ctl)*0.0238 # alpha = 1/42\n",
    "            atl_ctl_values.append([suffer_score_value,today_atl,today_ctl])\n",
    "\n",
    "    ##########################\n",
    "    #### TRAIN THE MODEL #####\n",
    "    ##########################\n",
    "                \n",
    "    # Select all rows except the last row, to create the dataset to train the model on.\n",
    "    data_train = rmssd_data.iloc[:-1 , :]\n",
    "    data_train = data_train.dropna()\n",
    "\n",
    "    # Convert train df to numpy array\n",
    "    train_data_np = np.array(data_train)\n",
    "\n",
    "    # Shuffle the train np array\n",
    "    np.random.shuffle(train_data_np)\n",
    "\n",
    "    x_train = train_data_np[:, :-1] # all but last column\n",
    "    y_train = train_data_np[:, -1] # last column \n",
    "\n",
    "    # SCALE THE TRAIN DATA\n",
    "    # https://towardsai.net/p/data-science/how-when-and-why-should-you-normalize-standardize-rescale-your-data-3f083def38ff\n",
    "    #sc = StandardScaler()\n",
    "    sc = MinMaxScaler()  \n",
    "    scaler = sc.fit(x_train)\n",
    "    # Scale training dataset\n",
    "    x_train = scaler.transform(x_train) \n",
    "\n",
    "    # CREATE AND TRAIN THE MODEL\n",
    "    # MLP Regressor model\n",
    "    mlp_model = MLPRegressor(hidden_layer_sizes=(50,25,10),max_iter = 3000, activation='relu',solver='adam',alpha=10,learning_rate='adaptive',random_state=8)\n",
    "    mlp_reg_mod = mlp_model.fit(x_train, y_train) \n",
    "\n",
    "    # Random Forest model\n",
    "    rf_model = ensemble.RandomForestRegressor(n_estimators=140,min_samples_split=5,min_samples_leaf=1,max_features='sqrt',max_depth=140,bootstrap=False, random_state=8)\n",
    "    rf_reg_mod = rf_model.fit(x_train, np.ravel(y_train,order='C'))\n",
    "\n",
    "    # XGB Regressor Model\n",
    "    xgb_model = xgb.XGBRegressor(objective ='reg:squarederror', colsample_bytree = 1, learning_rate = 0.12,max_depth = None, alpha = 0.0001, n_estimators = 30)\n",
    "    xgb_reg_mod = xgb_model.fit(x_train, np.ravel(y_train,order='C'))\n",
    "    \n",
    "\n",
    "    ##########################\n",
    "    ######## PREDICT #########\n",
    "    ##########################\n",
    "\n",
    "    # Select the last row. To create the dataset for the current day that we will be predicting for.\n",
    "    data_pred = rmssd_data.iloc[-1:]\n",
    "    data_pred.drop('oura_sleep_rmssd_3d_ema', axis=1, inplace=True)\n",
    "    # Prepare the data and run the prediction\n",
    "    for atl_ctl_value in atl_ctl_values:\n",
    "        tss = atl_ctl_value[0]\n",
    "        atl = atl_ctl_value[1]\n",
    "        ctl = atl_ctl_value[2]\n",
    "        # Replace actual TSS value with a value from \"atl_ctl_values\" array\n",
    "        data_pred['act_daily_suffer_score'] = tss\n",
    "        # Replace actual ATL value with a value from \"atl_ctl_values\" array\n",
    "        data_pred['act_pmc_atl'] = atl\n",
    "        # Replace actual CTL value with a value from \"atl_ctl_values\" array\n",
    "        data_pred['act_pmc_ctl'] = ctl\n",
    "\n",
    "        # Convert prediction df to numpy array\n",
    "        pred_data_np = np.array(data_pred)\n",
    "        # Replace NaN values with 0\n",
    "        pred_data_np = np.where(np.isnan(pred_data_np), 0, pred_data_np)\n",
    "\n",
    "        # SCALE THE PREDICTION DATA\n",
    "        # Scale prediction dataset\n",
    "        pred_data_np = scaler.transform(pred_data_np)\n",
    "\n",
    "        # MAKE A PREDICTION\n",
    "        # Random Forrest regressor model \n",
    "        mod_predict = rf_reg_mod.predict(pred_data_np)\n",
    "        #Append prediction and the coresponding evn stress value to predictions array\n",
    "        predictions_array.append([int(mod_predict),tss,int(atl),int(ctl),actual_oura_sleep_rmssd])\n",
    "\n",
    "    for prediction in predictions_array:\n",
    "        print('The model predicted that todays Suffer Score of {} will result in ATL of {} causing morning RMSSD (3d EMA) to be: {}. The actual morning RMSSD was: {}'.format(prediction[1],prediction[2],prediction[0],prediction[4]))\n",
    "\n",
    "    return(predictions_array)"
   ]
  },
  {
   "attachments": {},
   "cell_type": "markdown",
   "metadata": {},
   "source": [
    "Define Functio to Evaliuate Predictions"
   ]
  },
  {
   "cell_type": "code",
   "execution_count": 11,
   "metadata": {},
   "outputs": [],
   "source": [
    "def evaluate(y_test,predictions):\n",
    "        mape = mean_absolute_percentage_error(y_test,predictions)*100\n",
    "        accuracy = 100 - mape\n",
    "        return mape,accuracy"
   ]
  },
  {
   "attachments": {},
   "cell_type": "markdown",
   "metadata": {},
   "source": [
    "Set Variables:\n",
    "How many days of data to use for the model to predict (-120 to evaluate the model on 120 most recent days).These are excluded from training set.\n",
    "If \"None\", the model will be trained on all available data, and make a prediction for tomorrows RMMSD evaluating for each value from a range of TSS values (\"suffer_score_values\" array)."
   ]
  },
  {
   "cell_type": "code",
   "execution_count": 12,
   "metadata": {},
   "outputs": [],
   "source": [
    "days_past = -120\n",
    "suffer_score_values = [0,20,40,60,80,100,150,200,300]\n",
    "predictions = []\n",
    "predicted_rmssd = []\n",
    "actual_rmssd = []"
   ]
  },
  {
   "attachments": {},
   "cell_type": "markdown",
   "metadata": {},
   "source": [
    "Load data from CSV into pandas dataframe."
   ]
  },
  {
   "cell_type": "code",
   "execution_count": 13,
   "metadata": {},
   "outputs": [],
   "source": [
    "sql_data = pd.read_csv(\"RMSSD_Data_All.csv\")"
   ]
  },
  {
   "attachments": {},
   "cell_type": "markdown",
   "metadata": {},
   "source": [
    "Call \"return_morning_rmssd\", evaluate the accuracy of the returned prediction and plot the results."
   ]
  },
  {
   "cell_type": "code",
   "execution_count": 14,
   "metadata": {},
   "outputs": [
    {
     "name": "stdout",
     "output_type": "stream",
     "text": [
      "The model predicted that todays Suffer Score of 0 will result in ATL of 49 causing morning RMSSD (3d EMA) to be: 45. The actual morning RMSSD was: None\n",
      "The model predicted that todays Suffer Score of 20 will result in ATL of 52 causing morning RMSSD (3d EMA) to be: 45. The actual morning RMSSD was: None\n",
      "The model predicted that todays Suffer Score of 40 will result in ATL of 55 causing morning RMSSD (3d EMA) to be: 46. The actual morning RMSSD was: None\n",
      "The model predicted that todays Suffer Score of 60 will result in ATL of 58 causing morning RMSSD (3d EMA) to be: 46. The actual morning RMSSD was: None\n",
      "The model predicted that todays Suffer Score of 80 will result in ATL of 61 causing morning RMSSD (3d EMA) to be: 46. The actual morning RMSSD was: None\n",
      "The model predicted that todays Suffer Score of 100 will result in ATL of 64 causing morning RMSSD (3d EMA) to be: 47. The actual morning RMSSD was: None\n",
      "The model predicted that todays Suffer Score of 150 will result in ATL of 71 causing morning RMSSD (3d EMA) to be: 47. The actual morning RMSSD was: None\n",
      "The model predicted that todays Suffer Score of 200 will result in ATL of 78 causing morning RMSSD (3d EMA) to be: 48. The actual morning RMSSD was: None\n",
      "The model predicted that todays Suffer Score of 300 will result in ATL of 92 causing morning RMSSD (3d EMA) to be: 46. The actual morning RMSSD was: None\n",
      "Current RMSSD Baseline: 54.35\n",
      "Oura RMSSD Standard Deviation: 9.54\n"
     ]
    }
   ],
   "source": [
    "if days_past is not None:\n",
    "    sql_data = sql_data[sql_data['oura_sleep_rmssd'].notna()]\n",
    "    for day in range(days_past,0):\n",
    "        predictions.append(return_morn_rmssd(sql_data,suffer_score_values,day))\n",
    "\n",
    "    for prediction in predictions:\n",
    "        predicted_rmssd.append(prediction[0][0])\n",
    "        actual_rmssd.append(prediction[0][4])\n",
    "    # Evaluate the model's accuracy\n",
    "    mod_mse = mean_squared_error(actual_rmssd, predicted_rmssd)\n",
    "    mod_rmse = np.sqrt(mod_mse)\n",
    "    mod_mape =  evaluate(actual_rmssd, predicted_rmssd)[0]\n",
    "    # Calculate correlation between actual and predicted RMSSD\n",
    "    corr, _ = pearsonr(actual_rmssd, predicted_rmssd)\n",
    "    # Print the results\n",
    "    print('Model Correlation: {}'.format(corr))\n",
    "    print('Model RMSE: {}'.format(mod_rmse))\n",
    "    print('Model MAPE: {}%'.format(mod_mape))\n",
    "\n",
    "    ### PLOTS ###\n",
    "    # Plot the predicted vs measured on a scatter plot\n",
    "    fig, ax = plt.subplots()\n",
    "    ax.scatter(actual_rmssd, predicted_rmssd)\n",
    "    ax.plot([min(actual_rmssd), max(actual_rmssd)], [min(actual_rmssd), max(actual_rmssd)], 'k--', lw=2)\n",
    "    #compute and plot the line of best fit predicted_rmssd\n",
    "    z = np.polyfit(actual_rmssd, predicted_rmssd, 1)\n",
    "    p = np.poly1d(z)\n",
    "    plt.plot(actual_rmssd,p(actual_rmssd),linewidth=1, linestyle=\"--\", color='orange')\n",
    "    ax.set_xlabel('Measured')\n",
    "    ax.set_ylabel('Predicted')\n",
    "    plt.show()\n",
    "    # Plot the predicted vs measured on aLine Plot\n",
    "    x_ax = range(len(actual_rmssd))\n",
    "    plt.plot(x_ax, actual_rmssd, label=\"Measured\")\n",
    "    plt.plot(x_ax, predicted_rmssd, label=\"Predicted\")\n",
    "    plt.xlabel('X-axis')\n",
    "    plt.ylabel('Y-axis')\n",
    "    plt.legend(loc='best',fancybox=True, shadow=True)\n",
    "    plt.grid(True)\n",
    "    plt.show()\n",
    "\n",
    "else:\n",
    "    return_morn_rmssd(sql_data,suffer_score_values,days_past)\n",
    "    sql_data = sql_data[sql_data['oura_sleep_rmssd'].notna()]\n",
    "    current_rmssd_baseline = round(sql_data['oura_sleep_rmssd_baseline'].iat[1],3)\n",
    "    oura_rmssd_3d_ema_std = round(sql_data['oura_sleep_rmssd_3d_ema'].std(),3)\n",
    "    print('Current RMSSD Baseline: {}'.format(current_rmssd_baseline))\n",
    "    print('Oura RMSSD Standard Deviation: {}'.format(oura_rmssd_3d_ema_std))"
   ]
  }
 ],
 "metadata": {
  "kernelspec": {
   "display_name": "Python 3",
   "language": "python",
   "name": "python3"
  },
  "language_info": {
   "codemirror_mode": {
    "name": "ipython",
    "version": 3
   },
   "file_extension": ".py",
   "mimetype": "text/x-python",
   "name": "python",
   "nbconvert_exporter": "python",
   "pygments_lexer": "ipython3",
   "version": "3.9.13"
  },
  "orig_nbformat": 4,
  "vscode": {
   "interpreter": {
    "hash": "11938c6bc6919ae2720b4d5011047913343b08a43b18698fd82dedb0d4417594"
   }
  }
 },
 "nbformat": 4,
 "nbformat_minor": 2
}
